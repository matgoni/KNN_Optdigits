{
 "cells": [
  {
   "cell_type": "markdown",
   "metadata": {},
   "source": [
    "# Performance Evaluation of KNN Model with \"Optical Recognition of Handwritten Digits\" database"
   ]
  },
  {
   "cell_type": "markdown",
   "metadata": {},
   "source": [
    "## 1. Preparing Input data"
   ]
  },
  {
   "cell_type": "code",
   "execution_count": 1,
   "metadata": {},
   "outputs": [],
   "source": [
    "import sys\n",
    "import os\n",
    "\n",
    "sys.path.append(os.path.abspath(os.path.join(os.path.dirname('__file__'), '../scripts')))\n",
    "\n",
    "from process_data import DATA"
   ]
  },
  {
   "cell_type": "code",
   "execution_count": 2,
   "metadata": {},
   "outputs": [],
   "source": [
    "optdigits_tes = DATA('../data/optdigits.tes')\n",
    "optdigits_tes.get_data()\n",
    "optdigits_tes.split_data()\n",
    "\n",
    "optdigits_tra = DATA('../data/optdigits.tra')\n",
    "optdigits_tra.get_data()\n",
    "optdigits_tra.split_data()"
   ]
  },
  {
   "cell_type": "markdown",
   "metadata": {},
   "source": [
    "## 2. Using the model"
   ]
  },
  {
   "cell_type": "code",
   "execution_count": 3,
   "metadata": {},
   "outputs": [],
   "source": [
    "from knn_model import KNN\n",
    "import numpy as np\n",
    "\n",
    "k = 5\n",
    "model = KNN(k)\n",
    "model.values = optdigits_tra.values\n",
    "model.classes = optdigits_tra.classes"
   ]
  },
  {
   "cell_type": "code",
   "execution_count": 4,
   "metadata": {},
   "outputs": [],
   "source": [
    "results = []\n",
    "for i in range(len(optdigits_tes.values)):\n",
    "    output = model.compare_classes(np.array(optdigits_tes.classes[i]), np.array(optdigits_tes.values[i]), i)\n",
    "    results.append(output)    "
   ]
  },
  {
   "cell_type": "code",
   "execution_count": 5,
   "metadata": {},
   "outputs": [
    {
     "name": "stdout",
     "output_type": "stream",
     "text": [
      "The accuracy of the KNN algorithm with k=5 is 97.89%.\n"
     ]
    }
   ],
   "source": [
    "accuracy = model.calculate_accuracy(optdigits_tes.classes, k)"
   ]
  },
  {
   "cell_type": "markdown",
   "metadata": {},
   "source": [
    "## 3. Saving the results"
   ]
  },
  {
   "cell_type": "code",
   "execution_count": 7,
   "metadata": {},
   "outputs": [],
   "source": [
    "def save_results(results, directory=\"../results\", filename=\"knn_results.txt\"):\n",
    "    if not os.path.exists(directory):\n",
    "        os.makedirs(directory)\n",
    "\n",
    "    file_path = os.path.join(directory, filename)\n",
    "    with open(file_path, \"w\") as file:\n",
    "        for result in results:\n",
    "            file.write(result + \"\\n\")\n",
    "        file.write(accuracy)"
   ]
  },
  {
   "cell_type": "code",
   "execution_count": 8,
   "metadata": {},
   "outputs": [],
   "source": [
    "save_results(results, filename = 'kkn_results_5.txt')"
   ]
  },
  {
   "cell_type": "markdown",
   "metadata": {},
   "source": [
    "##  Testing diferent Ks"
   ]
  },
  {
   "cell_type": "code",
   "execution_count": 10,
   "metadata": {},
   "outputs": [
    {
     "name": "stdout",
     "output_type": "stream",
     "text": [
      "The accuracy of the KNN algorithm with k=1 is 98.00%.\n",
      "The accuracy of the KNN algorithm with k=2 is 98.00%.\n",
      "The accuracy of the KNN algorithm with k=3 is 97.89%.\n",
      "The accuracy of the KNN algorithm with k=4 is 98.22%.\n",
      "The accuracy of the KNN algorithm with k=6 is 98.16%.\n",
      "The accuracy of the KNN algorithm with k=7 is 97.77%.\n",
      "The accuracy of the KNN algorithm with k=8 is 97.89%.\n",
      "The accuracy of the KNN algorithm with k=9 is 97.83%.\n",
      "The accuracy of the KNN algorithm with k=10 is 97.77%.\n",
      "The accuracy of the KNN algorithm with k=11 is 98.00%.\n",
      "The accuracy of the KNN algorithm with k=12 is 97.66%.\n",
      "The accuracy of the KNN algorithm with k=13 is 97.44%.\n",
      "The accuracy of the KNN algorithm with k=14 is 97.38%.\n",
      "The accuracy of the KNN algorithm with k=15 is 97.44%.\n"
     ]
    }
   ],
   "source": [
    "ks = [1,2,3,4,5,6,7,8,9,10,11,12,13,14,15]\n",
    "for k in ks:\n",
    "    model = KNN(k)\n",
    "    model.values = optdigits_tra.values\n",
    "    model.classes = optdigits_tra.classes\n",
    "\n",
    "    results = []\n",
    "    for i in range(len(optdigits_tes.values)):\n",
    "        output = model.compare_classes(np.array(optdigits_tes.classes[i]), np.array(optdigits_tes.values[i]), i)\n",
    "        results.append(output)\n",
    "\n",
    "    accuracy = model.calculate_accuracy(optdigits_tes.classes, k)\n",
    "\n",
    "    save_results(results, filename = f\"kkn_results_{k}.txt\")"
   ]
  }
 ],
 "metadata": {
  "kernelspec": {
   "display_name": "Python 3 (ipykernel)",
   "language": "python",
   "name": "python3"
  },
  "language_info": {
   "codemirror_mode": {
    "name": "ipython",
    "version": 3
   },
   "file_extension": ".py",
   "mimetype": "text/x-python",
   "name": "python",
   "nbconvert_exporter": "python",
   "pygments_lexer": "ipython3",
   "version": "3.12.4"
  }
 },
 "nbformat": 4,
 "nbformat_minor": 4
}
